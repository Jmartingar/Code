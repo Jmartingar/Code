{
 "cells": [
  {
   "cell_type": "code",
   "execution_count": 32,
   "metadata": {},
   "outputs": [],
   "source": [
    "import pandas as pd"
   ]
  },
  {
   "cell_type": "code",
   "execution_count": 33,
   "metadata": {},
   "outputs": [],
   "source": [
    "with open('raw/allseq', 'r') as file:\n",
    "    lines = file.readlines()\n",
    "\n",
    "data = []\n",
    "current_id = None\n",
    "current_sequence = []\n",
    "\n",
    "for line in lines:\n",
    "    line = line.strip()\n",
    "    if line.startswith('>'):\n",
    "        if current_id is not None:\n",
    "            data.append([current_id, ''.join(current_sequence)])\n",
    "        current_id = line[1:]\n",
    "        current_sequence = []\n",
    "    else:\n",
    "        current_sequence.append(line)\n",
    "\n",
    "if current_id is not None:\n",
    "    data.append([current_id, ''.join(current_sequence)])\n",
    "\n",
    "df = pd.DataFrame(data, columns=['ID', 'Sequence'])"
   ]
  },
  {
   "cell_type": "code",
   "execution_count": 34,
   "metadata": {},
   "outputs": [],
   "source": [
    "df_2 = pd.read_csv('raw/thpdb.csv', delimiter=',', encoding='latin1')"
   ]
  },
  {
   "cell_type": "code",
   "execution_count": 35,
   "metadata": {},
   "outputs": [
    {
     "data": {
      "text/plain": [
       "array(['ID', 'ThPP ID', 'Therapeutic peptide Name', 'Peptide Sequence',\n",
       "       'Mode of Activity', 'Molecular Weight (Daltons)',\n",
       "       'Chemical Formula', 'Isoelectric Point', 'Hydrophobicity',\n",
       "       'Melting Point (\\x81Ê\\x81\\x87', 'Half-Life', 'Description',\n",
       "       'Indication', 'Pharmacodynamics', 'Mechanism of Action',\n",
       "       'Toxicity', 'Metabolism', 'Absorption', 'Volume of distribution',\n",
       "       'Clearance', 'Category', 'Patent Number', 'Issue Date',\n",
       "       'Expiry Date', 'Drug Interactions', 'Targets', 'Brands',\n",
       "       'Manufacturer', 'Brand Description', 'Specific Indication',\n",
       "       'Chemical Name', 'Formulation', 'Physical Form',\n",
       "       'Route of administration', 'Recommended dosage',\n",
       "       'Contraindications', 'Side effects', 'Useful links', 'Unnamed: 38'],\n",
       "      dtype=object)"
      ]
     },
     "execution_count": 35,
     "metadata": {},
     "output_type": "execute_result"
    }
   ],
   "source": [
    "df_2.columns.values"
   ]
  },
  {
   "cell_type": "code",
   "execution_count": 36,
   "metadata": {},
   "outputs": [],
   "source": [
    "df_2.drop(columns=['ID', 'Therapeutic peptide Name', 'Peptide Sequence',\n",
    "       'Mode of Activity', 'Molecular Weight (Daltons)',\n",
    "       'Chemical Formula', 'Isoelectric Point', 'Hydrophobicity',\n",
    "       'Melting Point (\\x81Ê\\x81\\x87', 'Description',\n",
    "       'Indication', 'Pharmacodynamics', 'Mechanism of Action',\n",
    "       'Toxicity', 'Metabolism', 'Absorption', 'Volume of distribution',\n",
    "       'Clearance', 'Category', 'Patent Number', 'Issue Date',\n",
    "       'Expiry Date', 'Drug Interactions', 'Targets', 'Brands',\n",
    "       'Manufacturer', 'Brand Description', 'Specific Indication',\n",
    "       'Chemical Name', 'Formulation', 'Physical Form',\n",
    "       'Route of administration', 'Recommended dosage',\n",
    "       'Contraindications', 'Side effects', 'Useful links', 'Unnamed: 38'], inplace=True)"
   ]
  },
  {
   "cell_type": "code",
   "execution_count": 37,
   "metadata": {},
   "outputs": [],
   "source": [
    "df_2 = df_2.rename(columns={'ThPP ID': 'ID'})\n",
    "df=df.merge(df_2, on=\"ID\", how=\"left\")\n",
    "df.drop(columns=['ID'], inplace=True)\n",
    "df = df.rename(columns={'Sequence': 'sequence', 'Half-Life': 'half_life_seconds'})"
   ]
  },
  {
   "cell_type": "code",
   "execution_count": 38,
   "metadata": {},
   "outputs": [],
   "source": [
    "df.to_csv('datasets/THPdb.csv', index=False)"
   ]
  }
 ],
 "metadata": {
  "kernelspec": {
   "display_name": "base",
   "language": "python",
   "name": "python3"
  },
  "language_info": {
   "codemirror_mode": {
    "name": "ipython",
    "version": 3
   },
   "file_extension": ".py",
   "mimetype": "text/x-python",
   "name": "python",
   "nbconvert_exporter": "python",
   "pygments_lexer": "ipython3",
   "version": "3.12.5"
  }
 },
 "nbformat": 4,
 "nbformat_minor": 2
}
