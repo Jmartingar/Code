{
 "cells": [
  {
   "cell_type": "code",
   "execution_count": 186,
   "metadata": {},
   "outputs": [],
   "source": [
    "import pandas as pd\n",
    "import ast\n",
    "import re"
   ]
  },
  {
   "cell_type": "code",
   "execution_count": 187,
   "metadata": {},
   "outputs": [],
   "source": [
    "with open('raw/PEP_LIFE.data', 'r') as f:\n",
    "    contenido = f.read()"
   ]
  },
  {
   "cell_type": "code",
   "execution_count": 188,
   "metadata": {},
   "outputs": [],
   "source": [
    "data = ast.literal_eval(contenido)"
   ]
  },
  {
   "cell_type": "code",
   "execution_count": 189,
   "metadata": {},
   "outputs": [],
   "source": [
    "rows = []\n",
    "for key, value in data.items():\n",
    "    sequence, modifications = key\n",
    "    half_life_data = value['half_life_data']\n",
    "    references = value['references']\n",
    "    url_sources = value['url_sources']\n",
    "    \n",
    "    # Extraer datos de cada entrada en half_life_data\n",
    "    for entry, url in half_life_data:\n",
    "        row = {\n",
    "            'Sequence': sequence,\n",
    "            'Modifications': modifications,\n",
    "            'Test Sample': entry['test_sample'],\n",
    "            'Vivo/Vitro': entry['vivo_vitro'],\n",
    "            'Half Life (seconds)': entry['half_life_seconds'],\n",
    "            'Reference URL': references[0] if references else None,\n",
    "            'Source URL': url,\n",
    "            'Other Sources': ', '.join(url_sources)\n",
    "        }\n",
    "        rows.append(row)\n"
   ]
  },
  {
   "cell_type": "code",
   "execution_count": 190,
   "metadata": {},
   "outputs": [],
   "source": [
    "df = pd.DataFrame(data)"
   ]
  },
  {
   "cell_type": "code",
   "execution_count": 191,
   "metadata": {},
   "outputs": [
    {
     "data": {
      "text/plain": [
       "(4, 1137)"
      ]
     },
     "execution_count": 191,
     "metadata": {},
     "output_type": "execute_result"
    }
   ],
   "source": [
    "df.shape"
   ]
  },
  {
   "cell_type": "code",
   "execution_count": 192,
   "metadata": {},
   "outputs": [],
   "source": [
    "df_t = df.transpose()\n",
    "df_t.reset_index(inplace=True)\n",
    "df_t.drop(columns=['level_1'], inplace=True)\n",
    "#df_t.drop(columns=['references', 'url_sources','level_1','modifications'], inplace=True)"
   ]
  },
  {
   "cell_type": "code",
   "execution_count": 193,
   "metadata": {},
   "outputs": [],
   "source": [
    "df_t['half_life_data'] = df_t['half_life_data'].astype(str).str.replace(r'[\\[\\]():{}]', '', regex=True)\n",
    "def extract_data(text):\n",
    "    return re.findall(r\"'(.*?)'\", text)\n",
    "\n",
    "extracted_data = df_t['half_life_data'].apply(extract_data)\n",
    "df_expanded = pd.DataFrame(extracted_data.tolist())\n",
    "df_expanded[1]=pd.to_numeric(df_expanded[1], errors='coerce')\n",
    "df_t['half_life_data'] = df_expanded[1]"
   ]
  },
  {
   "cell_type": "code",
   "execution_count": 194,
   "metadata": {},
   "outputs": [],
   "source": [
    "df_t = df_t.rename(columns={'level_0': 'sequence', 'half_life_data': 'half_life_seconds'})\n",
    "df_t.to_csv('datasets/PEP_LIFE.csv', index=False)"
   ]
  },
  {
   "cell_type": "code",
   "execution_count": 195,
   "metadata": {},
   "outputs": [],
   "source": [
    "df = pd.read_csv('raw/10mer-peptides.txt', delimiter=\"\\t\")\n",
    "df=df.rename(columns={'## Peptide Sequence(10mer)':'sequence', 'Half-life(Sec)': 'half_life_seconds'})\n",
    "df.to_csv('datasets/10mer-peptides.csv', index=False)"
   ]
  },
  {
   "cell_type": "code",
   "execution_count": 196,
   "metadata": {},
   "outputs": [],
   "source": [
    "df = pd.read_csv('raw/16mer-peptides.txt', delimiter=\"\\t\")\n",
    "df=df.rename(columns={'## Peptide Sequence(10mer)':'sequence', 'Half-life(Sec)': 'half_life_seconds'})\n",
    "df.to_csv('datasets/16mer-peptides.csv', index=False)"
   ]
  },
  {
   "cell_type": "code",
   "execution_count": 197,
   "metadata": {},
   "outputs": [],
   "source": [
    "with open('raw/allseq', 'r') as file:\n",
    "    lines = file.readlines()\n",
    "\n",
    "data = []\n",
    "current_id = None\n",
    "current_sequence = []\n",
    "\n",
    "for line in lines:\n",
    "    line = line.strip()\n",
    "    if line.startswith('>'):\n",
    "        if current_id is not None:\n",
    "            # Añadir el bloque anterior al DataFrame\n",
    "            data.append([current_id, ''.join(current_sequence)])\n",
    "        # Iniciar un nuevo bloque\n",
    "        current_id = line[1:]  # Quitar el '>'\n",
    "        current_sequence = []\n",
    "    else:\n",
    "        current_sequence.append(line)\n",
    "\n",
    "# Añadir el último bloque al DataFrame\n",
    "if current_id is not None:\n",
    "    data.append([current_id, ''.join(current_sequence)])\n",
    "\n",
    "# Crear el DataFrame\n",
    "df = pd.DataFrame(data, columns=['ID', 'Sequence'])"
   ]
  },
  {
   "cell_type": "code",
   "execution_count": 198,
   "metadata": {},
   "outputs": [
    {
     "data": {
      "text/html": [
       "<div>\n",
       "<style scoped>\n",
       "    .dataframe tbody tr th:only-of-type {\n",
       "        vertical-align: middle;\n",
       "    }\n",
       "\n",
       "    .dataframe tbody tr th {\n",
       "        vertical-align: top;\n",
       "    }\n",
       "\n",
       "    .dataframe thead th {\n",
       "        text-align: right;\n",
       "    }\n",
       "</style>\n",
       "<table border=\"1\" class=\"dataframe\">\n",
       "  <thead>\n",
       "    <tr style=\"text-align: right;\">\n",
       "      <th></th>\n",
       "      <th>ID</th>\n",
       "      <th>Sequence</th>\n",
       "    </tr>\n",
       "  </thead>\n",
       "  <tbody>\n",
       "    <tr>\n",
       "      <th>0</th>\n",
       "      <td>Th1001</td>\n",
       "      <td>LVYTDCTESGQNLCLCEGSNVCGQGNKCILGSDGEKNQCVTGEGTP...</td>\n",
       "    </tr>\n",
       "    <tr>\n",
       "      <th>1</th>\n",
       "      <td>Th1002</td>\n",
       "      <td>Heavy chain:QVQLKQSGPGLVQPSQSLSITCTVSGFSLTNYGV...</td>\n",
       "    </tr>\n",
       "    <tr>\n",
       "      <th>2</th>\n",
       "      <td>Th1003</td>\n",
       "      <td>LKIAAFNIQTFGETKMSNATLVSYIVQILSRYDIALVQEVRDSHLT...</td>\n",
       "    </tr>\n",
       "    <tr>\n",
       "      <th>3</th>\n",
       "      <td>Th1004</td>\n",
       "      <td>MGADDVVDSSKSFVMENFSSYHGTKPGYVDSIQKGIQKPKSGTQGN...</td>\n",
       "    </tr>\n",
       "    <tr>\n",
       "      <th>4</th>\n",
       "      <td>Th1005</td>\n",
       "      <td>LPAQVAFTPYAPEPGSTCRLREYYDQTAQMCCSKCSPGQHAKVFCT...</td>\n",
       "    </tr>\n",
       "    <tr>\n",
       "      <th>...</th>\n",
       "      <td>...</td>\n",
       "      <td>...</td>\n",
       "    </tr>\n",
       "    <tr>\n",
       "      <th>234</th>\n",
       "      <td>Th1235</td>\n",
       "      <td>ANSLLEETKQGNLERECIEELCNKEEAREVFENDPETDYFYPKYLV...</td>\n",
       "    </tr>\n",
       "    <tr>\n",
       "      <th>235</th>\n",
       "      <td>Th1236</td>\n",
       "      <td>N.A</td>\n",
       "    </tr>\n",
       "    <tr>\n",
       "      <th>236</th>\n",
       "      <td>Th1237</td>\n",
       "      <td>FPTIPLSRLFDNAMLRAHRLHQLAFDTYQEFEEAYIPKEQKYSFLQ...</td>\n",
       "    </tr>\n",
       "    <tr>\n",
       "      <th>237</th>\n",
       "      <td>Th1238</td>\n",
       "      <td>AIRRYYLGAVELSWDYRQSELLRELHVDTRFPATAPGALPLGPSVL...</td>\n",
       "    </tr>\n",
       "    <tr>\n",
       "      <th>238</th>\n",
       "      <td>Th1239</td>\n",
       "      <td>N.A</td>\n",
       "    </tr>\n",
       "  </tbody>\n",
       "</table>\n",
       "<p>239 rows × 2 columns</p>\n",
       "</div>"
      ],
      "text/plain": [
       "         ID                                           Sequence\n",
       "0    Th1001  LVYTDCTESGQNLCLCEGSNVCGQGNKCILGSDGEKNQCVTGEGTP...\n",
       "1    Th1002  Heavy chain:QVQLKQSGPGLVQPSQSLSITCTVSGFSLTNYGV...\n",
       "2    Th1003  LKIAAFNIQTFGETKMSNATLVSYIVQILSRYDIALVQEVRDSHLT...\n",
       "3    Th1004  MGADDVVDSSKSFVMENFSSYHGTKPGYVDSIQKGIQKPKSGTQGN...\n",
       "4    Th1005  LPAQVAFTPYAPEPGSTCRLREYYDQTAQMCCSKCSPGQHAKVFCT...\n",
       "..      ...                                                ...\n",
       "234  Th1235  ANSLLEETKQGNLERECIEELCNKEEAREVFENDPETDYFYPKYLV...\n",
       "235  Th1236                                                N.A\n",
       "236  Th1237  FPTIPLSRLFDNAMLRAHRLHQLAFDTYQEFEEAYIPKEQKYSFLQ...\n",
       "237  Th1238  AIRRYYLGAVELSWDYRQSELLRELHVDTRFPATAPGALPLGPSVL...\n",
       "238  Th1239                                                N.A\n",
       "\n",
       "[239 rows x 2 columns]"
      ]
     },
     "execution_count": 198,
     "metadata": {},
     "output_type": "execute_result"
    }
   ],
   "source": [
    "df"
   ]
  }
 ],
 "metadata": {
  "kernelspec": {
   "display_name": "base",
   "language": "python",
   "name": "python3"
  },
  "language_info": {
   "codemirror_mode": {
    "name": "ipython",
    "version": 3
   },
   "file_extension": ".py",
   "mimetype": "text/x-python",
   "name": "python",
   "nbconvert_exporter": "python",
   "pygments_lexer": "ipython3",
   "version": "3.12.4"
  }
 },
 "nbformat": 4,
 "nbformat_minor": 2
}
