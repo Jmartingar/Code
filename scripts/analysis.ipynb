{
 "cells": [
  {
   "cell_type": "code",
   "execution_count": 11,
   "metadata": {},
   "outputs": [],
   "source": [
    "import pandas as pd\n",
    "import os"
   ]
  },
  {
   "cell_type": "code",
   "execution_count": 12,
   "metadata": {},
   "outputs": [],
   "source": [
    "folder='../datasets'"
   ]
  },
  {
   "cell_type": "code",
   "execution_count": 13,
   "metadata": {},
   "outputs": [
    {
     "name": "stdout",
     "output_type": "stream",
     "text": [
      "carpeta ../datasets\\HLP_10.csv\n",
      "tamaño: (189, 2)\n",
      "sumatoria de null:\n",
      " sequence             0\n",
      "half_life_seconds    0\n",
      "dtype: int64\n",
      "tamaño sin null: (189, 2)\n",
      "\n",
      "\n",
      "carpeta ../datasets\\HLP_16.csv\n",
      "tamaño: (186, 2)\n",
      "sumatoria de null:\n",
      " sequence             0\n",
      "half_life_seconds    0\n",
      "dtype: int64\n",
      "tamaño sin null: (186, 2)\n",
      "\n",
      "\n",
      "carpeta ../datasets\\LIST_NULL.csv\n",
      "tamaño: (6, 2)\n",
      "sumatoria de null:\n",
      " index       0\n",
      "sequence    0\n",
      "dtype: int64\n",
      "tamaño sin null: (6, 2)\n",
      "\n",
      "\n",
      "carpeta ../datasets\\PEP_LIFE.csv\n",
      "tamaño: (965, 2)\n",
      "sumatoria de null:\n",
      " sequence             0\n",
      "half_life_seconds    0\n",
      "dtype: int64\n",
      "tamaño sin null: (965, 2)\n",
      "\n",
      "\n",
      "carpeta ../datasets\\plifepred.csv\n",
      "tamaño: (261, 2)\n",
      "sumatoria de null:\n",
      " sequence             0\n",
      "half_life_seconds    0\n",
      "dtype: int64\n",
      "tamaño sin null: (261, 2)\n",
      "\n",
      "\n",
      "carpeta ../datasets\\THPdb.csv\n",
      "tamaño: (852, 2)\n",
      "sumatoria de null:\n",
      " sequence             93\n",
      "half_life_seconds    35\n",
      "dtype: int64\n",
      "tamaño sin null: (745, 2)\n",
      "\n",
      "\n"
     ]
    }
   ],
   "source": [
    "for file in os.listdir(folder):\n",
    "    if file.endswith('.csv'):\n",
    "        com_folder = os.path.join(folder, file)\n",
    "        df = pd.read_csv(com_folder)\n",
    "    print(\"carpeta\", com_folder)\n",
    "    print(\"tamaño:\", df.shape)\n",
    "    print(\"sumatoria de null:\\n\", df.isnull().sum())\n",
    "    print(\"tamaño sin null:\", df.dropna().shape)\n",
    "    print(\"\\n\")"
   ]
  }
 ],
 "metadata": {
  "kernelspec": {
   "display_name": "ML_Class",
   "language": "python",
   "name": "python3"
  },
  "language_info": {
   "codemirror_mode": {
    "name": "ipython",
    "version": 3
   },
   "file_extension": ".py",
   "mimetype": "text/x-python",
   "name": "python",
   "nbconvert_exporter": "python",
   "pygments_lexer": "ipython3",
   "version": "3.12.4"
  }
 },
 "nbformat": 4,
 "nbformat_minor": 2
}
