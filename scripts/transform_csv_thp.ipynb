{
 "cells": [
  {
   "cell_type": "code",
   "execution_count": 1,
   "metadata": {},
   "outputs": [],
   "source": [
    "import pandas as pd"
   ]
  },
  {
   "cell_type": "code",
   "execution_count": 2,
   "metadata": {},
   "outputs": [],
   "source": [
    "#cambiar horas a segundos y quitar las palabras de la columna half-life"
   ]
  },
  {
   "cell_type": "code",
   "execution_count": 3,
   "metadata": {},
   "outputs": [],
   "source": [
    "with open('../raw/allseq', 'r') as file:\n",
    "    lines = file.readlines()\n",
    "\n",
    "data = []\n",
    "current_id = None\n",
    "current_sequence = []\n",
    "\n",
    "for line in lines:\n",
    "    line = line.strip()\n",
    "    if line.startswith('>'):\n",
    "        if current_id is not None:\n",
    "            data.append([current_id, ''.join(current_sequence)])\n",
    "        current_id = line[1:]\n",
    "        current_sequence = []\n",
    "    else:\n",
    "        current_sequence.append(line)\n",
    "\n",
    "if current_id is not None:\n",
    "    data.append([current_id, ''.join(current_sequence)])\n",
    "\n",
    "df = pd.DataFrame(data, columns=['ID', 'Sequence'])"
   ]
  },
  {
   "cell_type": "code",
   "execution_count": 4,
   "metadata": {},
   "outputs": [],
   "source": [
    "df_2 = pd.read_csv('../raw/thpdb.csv', delimiter=',', encoding='latin1')"
   ]
  },
  {
   "cell_type": "code",
   "execution_count": 5,
   "metadata": {},
   "outputs": [],
   "source": [
    "df_2=df_2.filter(['ThPP ID', 'Half-Life'])"
   ]
  },
  {
   "cell_type": "code",
   "execution_count": 6,
   "metadata": {},
   "outputs": [],
   "source": [
    "df_2 = df_2.rename(columns={'ThPP ID': 'ID'})\n",
    "df=df.merge(df_2, on=\"ID\", how=\"left\")\n",
    "df.drop(columns=['ID'], inplace=True)\n",
    "df = df.rename(columns={'Sequence': 'sequence', 'Half-Life': 'half_life_seconds'})"
   ]
  },
  {
   "cell_type": "code",
   "execution_count": 7,
   "metadata": {},
   "outputs": [],
   "source": [
    "df.to_csv('../datasets/THPdb.csv', index=False)"
   ]
  }
 ],
 "metadata": {
  "kernelspec": {
   "display_name": "base",
   "language": "python",
   "name": "python3"
  },
  "language_info": {
   "codemirror_mode": {
    "name": "ipython",
    "version": 3
   },
   "file_extension": ".py",
   "mimetype": "text/x-python",
   "name": "python",
   "nbconvert_exporter": "python",
   "pygments_lexer": "ipython3",
   "version": "3.12.4"
  }
 },
 "nbformat": 4,
 "nbformat_minor": 2
}
