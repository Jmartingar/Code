{
 "cells": [
  {
   "cell_type": "code",
   "execution_count": 9,
   "metadata": {},
   "outputs": [],
   "source": [
    "import pandas as pd\n",
    "import ast\n",
    "import re"
   ]
  },
  {
   "cell_type": "code",
   "execution_count": 10,
   "metadata": {},
   "outputs": [],
   "source": [
    "with open('../raw/PEP_LIFE.data', 'r') as f:\n",
    "    contenido = f.read()"
   ]
  },
  {
   "cell_type": "code",
   "execution_count": 11,
   "metadata": {},
   "outputs": [],
   "source": [
    "data = ast.literal_eval(contenido)"
   ]
  },
  {
   "cell_type": "code",
   "execution_count": 12,
   "metadata": {},
   "outputs": [],
   "source": [
    "rows = []\n",
    "for key, value in data.items():\n",
    "    sequence, modifications = key\n",
    "    half_life_data = value['half_life_data']\n",
    "    references = value['references']\n",
    "    url_sources = value['url_sources']\n",
    "    \n",
    "    # Extraer datos de cada entrada en half_life_data\n",
    "    for entry, url in half_life_data:\n",
    "        row = {\n",
    "            'Sequence': sequence,\n",
    "            'Modifications': modifications,\n",
    "            'Test Sample': entry['test_sample'],\n",
    "            'Vivo/Vitro': entry['vivo_vitro'],\n",
    "            'Half Life (seconds)': entry['half_life_seconds'],\n",
    "            'Reference URL': references[0] if references else None,\n",
    "            'Source URL': url,\n",
    "            'Other Sources': ', '.join(url_sources)\n",
    "        }\n",
    "        rows.append(row)\n"
   ]
  },
  {
   "cell_type": "code",
   "execution_count": 13,
   "metadata": {},
   "outputs": [],
   "source": [
    "df = pd.DataFrame(data)"
   ]
  },
  {
   "cell_type": "code",
   "execution_count": 14,
   "metadata": {},
   "outputs": [],
   "source": [
    "df_t = df.transpose()\n",
    "df_t.reset_index(inplace=True)\n",
    "df_t=df_t.filter(['level_0','half_life_data'])"
   ]
  },
  {
   "cell_type": "code",
   "execution_count": 15,
   "metadata": {},
   "outputs": [],
   "source": [
    "df_t['half_life_data'] = df_t['half_life_data'].astype(str).str.replace(r'[\\[\\]():{}]', '', regex=True)\n",
    "def extract_data(text):\n",
    "    return re.findall(r\"'(.*?)'\", text)\n",
    "\n",
    "extracted_data = df_t['half_life_data'].apply(extract_data)\n",
    "df_expanded = pd.DataFrame(extracted_data.tolist())\n",
    "df_expanded[1]=pd.to_numeric(df_expanded[1], errors='coerce')\n",
    "df_t['half_life_data'] = df_expanded[1]"
   ]
  },
  {
   "cell_type": "code",
   "execution_count": 16,
   "metadata": {},
   "outputs": [],
   "source": [
    "df_t = df_t.rename(columns={'level_0': 'sequence', 'half_life_data': 'half_life_seconds'})\n",
    "df_t.to_csv('../datasets/PEP_LIFE.csv', index=False)"
   ]
  }
 ],
 "metadata": {
  "kernelspec": {
   "display_name": "base",
   "language": "python",
   "name": "python3"
  },
  "language_info": {
   "codemirror_mode": {
    "name": "ipython",
    "version": 3
   },
   "file_extension": ".py",
   "mimetype": "text/x-python",
   "name": "python",
   "nbconvert_exporter": "python",
   "pygments_lexer": "ipython3",
   "version": "3.12.5"
  }
 },
 "nbformat": 4,
 "nbformat_minor": 2
}
