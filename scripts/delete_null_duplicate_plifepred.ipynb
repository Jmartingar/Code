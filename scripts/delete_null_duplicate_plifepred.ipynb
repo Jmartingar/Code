{
 "cells": [
  {
   "cell_type": "code",
   "execution_count": 1,
   "metadata": {},
   "outputs": [],
   "source": [
    "import pandas as pd\n",
    "import sys"
   ]
  },
  {
   "cell_type": "code",
   "execution_count": 2,
   "metadata": {},
   "outputs": [],
   "source": [
    "list_null = []"
   ]
  },
  {
   "cell_type": "code",
   "execution_count": 3,
   "metadata": {},
   "outputs": [],
   "source": [
    "df = pd.read_csv(\"../datasets/plifepred.csv\")\n",
    "if (str(df.iloc[0].values[1])).startswith('[')==True:\n",
    "    print(\"El archivo ya ha sido procesado anteriormente. Salida del programa.\")\n",
    "    sys.exit()"
   ]
  },
  {
   "cell_type": "code",
   "execution_count": 4,
   "metadata": {},
   "outputs": [],
   "source": [
    "#Itera sobre las secuencias y tiempos de vida, si hay algun tiempo de vida nulo lo añade a la lista\n",
    "for i in range(0, len(df)):\n",
    "    sequence = df.iloc[i].values[0]\n",
    "    time = df.iloc[i].values[1]\n",
    "    if pd.isna(time):\n",
    "        list_null.append({\"sequence\": sequence})\n",
    "list_null= pd.DataFrame(list_null, columns=['sequence'])"
   ]
  },
  {
   "cell_type": "code",
   "execution_count": 5,
   "metadata": {},
   "outputs": [],
   "source": [
    "df= df.dropna()\n",
    "#df_grouped = df.groupby('sequence', sort=False).agg(list)\n",
    "#df_grouped = df_grouped.reset_index()\n",
    "list_null = list_null.reset_index()"
   ]
  },
  {
   "cell_type": "code",
   "execution_count": 6,
   "metadata": {},
   "outputs": [],
   "source": [
    "df=df.drop_duplicates('sequence', keep=False).reset_index(drop=True)"
   ]
  },
  {
   "cell_type": "code",
   "execution_count": 7,
   "metadata": {},
   "outputs": [],
   "source": [
    "#df_grouped.to_csv(\"../datasets/plifepred.csv\", index=False)\n",
    "df.to_csv(\"../datasets/plifepred.csv\", index=False)"
   ]
  }
 ],
 "metadata": {
  "kernelspec": {
   "display_name": "ML_Class",
   "language": "python",
   "name": "python3"
  },
  "language_info": {
   "codemirror_mode": {
    "name": "ipython",
    "version": 3
   },
   "file_extension": ".py",
   "mimetype": "text/x-python",
   "name": "python",
   "nbconvert_exporter": "python",
   "pygments_lexer": "ipython3",
   "version": "3.12.5"
  }
 },
 "nbformat": 4,
 "nbformat_minor": 2
}
