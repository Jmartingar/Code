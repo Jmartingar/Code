{
 "cells": [
  {
   "cell_type": "code",
   "execution_count": 26,
   "metadata": {},
   "outputs": [],
   "source": [
    "import pandas as pd\n",
    "import sys"
   ]
  },
  {
   "cell_type": "code",
   "execution_count": 27,
   "metadata": {},
   "outputs": [],
   "source": [
    "list_null = []"
   ]
  },
  {
   "cell_type": "code",
   "execution_count": 28,
   "metadata": {},
   "outputs": [],
   "source": [
    "df = pd.read_csv(\"../datasets/THPdb.csv\")\n",
    "if (str(df.iloc[0].values[1])).startswith('[')==True:\n",
    "    print(\"El archivo ya ha sido procesado anteriormente. Salida del programa.\")\n",
    "    sys.exit()"
   ]
  },
  {
   "cell_type": "code",
   "execution_count": 29,
   "metadata": {},
   "outputs": [],
   "source": [
    "#Itera sobre las secuencias y tiempos de vida, si hay algun tiempo de vida nulo lo añade a la lista\n",
    "for i in range(0, len(df)):\n",
    "    sequence = df.iloc[i].values[0]\n",
    "    time = df.iloc[i].values[1]\n",
    "    if pd.isna(time):\n",
    "        list_null.append({\"sequence\": sequence})\n",
    "list_null= pd.DataFrame(list_null, columns=['sequence'])"
   ]
  },
  {
   "cell_type": "code",
   "execution_count": 30,
   "metadata": {},
   "outputs": [],
   "source": [
    "df= df.dropna()\n",
    "df_grouped = df.groupby('sequence', sort=False).agg(list)\n",
    "df_grouped = df_grouped.reset_index()\n",
    "list_null = list_null.reset_index()"
   ]
  },
  {
   "cell_type": "code",
   "execution_count": 31,
   "metadata": {},
   "outputs": [],
   "source": [
    "df_grouped.to_csv(\"../datasets/THPdb.csv\", index=False)\n",
    "list_null.to_csv(\"../datasets/LIST_NULL_2.csv\", index=False)"
   ]
  }
 ],
 "metadata": {
  "kernelspec": {
   "display_name": "ML_Class",
   "language": "python",
   "name": "python3"
  },
  "language_info": {
   "codemirror_mode": {
    "name": "ipython",
    "version": 3
   },
   "file_extension": ".py",
   "mimetype": "text/x-python",
   "name": "python",
   "nbconvert_exporter": "python",
   "pygments_lexer": "ipython3",
   "version": "3.12.4"
  }
 },
 "nbformat": 4,
 "nbformat_minor": 2
}
