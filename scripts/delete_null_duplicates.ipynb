{
 "cells": [
  {
   "cell_type": "code",
   "execution_count": 1,
   "metadata": {},
   "outputs": [],
   "source": [
    "import pandas as pd\n",
    "import sys"
   ]
  },
  {
   "cell_type": "code",
   "execution_count": 2,
   "metadata": {},
   "outputs": [],
   "source": [
    "def get_path(name):\n",
    "    for file in list_file:\n",
    "        if file['name'] == name:\n",
    "            return file['path']\n",
    "    return None"
   ]
  },
  {
   "cell_type": "code",
   "execution_count": 3,
   "metadata": {},
   "outputs": [],
   "source": [
    "folder='../datasets/'\n",
    "list_file = [\n",
    "    {\"name\": \"H10\", \"path\": \"HLP_10.csv\"},\n",
    "    {\"name\": \"H16\", \"path\": \"HLP_16.csv\"},\n",
    "    {\"name\": \"PL\", \"path\": \"PEP_LIFE.csv\"},\n",
    "    {\"name\": \"PP\", \"path\": \"plifepred.csv\"},\n",
    "    {\"name\": \"SE\", \"path\": \"serum.csv\"},\n",
    "    {\"name\": \"PTD\", \"path\": \"PepTherDia.csv\"},\n",
    "    {\"name\": \"THP\", \"path\": \"thpdb.csv\"}\n",
    "]\n",
    "list_null = []"
   ]
  },
  {
   "cell_type": "code",
   "execution_count": 4,
   "metadata": {},
   "outputs": [
    {
     "name": "stdout",
     "output_type": "stream",
     "text": [
      "Archivo H10 cargado con éxito.\n",
      "Archivo H16 cargado con éxito.\n",
      "Archivo PL cargado con éxito.\n",
      "Archivo PP cargado con éxito.\n",
      "Archivo SE cargado con éxito.\n",
      "Archivo PTD cargado con éxito.\n",
      "Archivo THP cargado con éxito.\n",
      "El archivo ya ha sido procesado anteriormente. Salida del programa.\n"
     ]
    }
   ],
   "source": [
    "for file in list_file:\n",
    "    path = get_path(file['name'])\n",
    "    \n",
    "    if path:\n",
    "        df = pd.read_csv(folder + path)\n",
    "        if df.shape[0] != 0:\n",
    "            print(f\"Archivo {file['name']} cargado con éxito.\")\n",
    "            #display(df)\n",
    "            if (str(df.iloc[0].values[1])).startswith('[')==True:\n",
    "                print(\"El archivo ya ha sido procesado anteriormente. Salida del programa.\")\n",
    "                continue\n",
    "            else:\n",
    "                for i in range(0, len(df)):\n",
    "                    sequence = df.iloc[i].values[0]\n",
    "                    time = df.iloc[i].values[1]\n",
    "                    if pd.isna(time):\n",
    "                        list_null.append({\"sequence\": sequence})\n",
    "                df = df[df['sequence'] != 'N.A.']\n",
    "                df= df.dropna()\n",
    "                df=df.drop_duplicates('sequence', keep=False).reset_index(drop=True)\n",
    "                df.to_csv(f\"../datasets/{path}\", index=False)\n",
    "                if file['name']=='THP':\n",
    "                    df_grouped = df.groupby('sequence', sort=False).agg(list)\n",
    "                    df_grouped = df_grouped.reset_index()\n",
    "                    df_grouped.to_csv(f\"../datasets/{path}\", index=False)\n",
    "list_null= pd.DataFrame(list_null, columns=['sequence'])\n",
    "list_null = list_null.reset_index()\n",
    "list_null.to_csv(\"../datasets/null_values.csv\", index=False)"
   ]
  }
 ],
 "metadata": {
  "kernelspec": {
   "display_name": "ML_Class",
   "language": "python",
   "name": "python3"
  },
  "language_info": {
   "codemirror_mode": {
    "name": "ipython",
    "version": 3
   },
   "file_extension": ".py",
   "mimetype": "text/x-python",
   "name": "python",
   "nbconvert_exporter": "python",
   "pygments_lexer": "ipython3",
   "version": "3.12.4"
  }
 },
 "nbformat": 4,
 "nbformat_minor": 2
}
